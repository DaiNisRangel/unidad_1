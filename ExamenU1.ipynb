{
 "cells": [
  {
   "cell_type": "code",
   "execution_count": 1,
   "id": "prostate-emerald",
   "metadata": {},
   "outputs": [
    {
     "name": "stdout",
     "output_type": "stream",
     "text": [
      "<class 'int'>\n"
     ]
    }
   ],
   "source": [
    "print (type(3))"
   ]
  },
  {
   "cell_type": "code",
   "execution_count": 2,
   "id": "nearby-explorer",
   "metadata": {},
   "outputs": [
    {
     "name": "stdout",
     "output_type": "stream",
     "text": [
      "<class 'str'>\n"
     ]
    }
   ],
   "source": [
    "print (type('hola'))"
   ]
  },
  {
   "cell_type": "code",
   "execution_count": 3,
   "id": "golden-plane",
   "metadata": {},
   "outputs": [
    {
     "name": "stdout",
     "output_type": "stream",
     "text": [
      "<class 'float'>\n"
     ]
    }
   ],
   "source": [
    "print (type(13.5))"
   ]
  },
  {
   "cell_type": "code",
   "execution_count": 4,
   "id": "north-chase",
   "metadata": {},
   "outputs": [
    {
     "name": "stdout",
     "output_type": "stream",
     "text": [
      "<class 'bool'>\n"
     ]
    }
   ],
   "source": [
    "print (type(True))"
   ]
  },
  {
   "cell_type": "code",
   "execution_count": 5,
   "id": "collectible-accommodation",
   "metadata": {},
   "outputs": [],
   "source": [
    "def mul(a,b,c='None'):\n",
    "    if c=='None':\n",
    "        return a*b\n",
    "    return a*b*c"
   ]
  },
  {
   "cell_type": "code",
   "execution_count": 6,
   "id": "spatial-mount",
   "metadata": {},
   "outputs": [
    {
     "data": {
      "text/plain": [
       "15"
      ]
     },
     "execution_count": 6,
     "metadata": {},
     "output_type": "execute_result"
    }
   ],
   "source": [
    "mul(3,5)"
   ]
  },
  {
   "cell_type": "code",
   "execution_count": 7,
   "id": "veterinary-necessity",
   "metadata": {},
   "outputs": [
    {
     "data": {
      "text/plain": [
       "24"
      ]
     },
     "execution_count": 7,
     "metadata": {},
     "output_type": "execute_result"
    }
   ],
   "source": [
    "mul(2,3,4)"
   ]
  },
  {
   "cell_type": "code",
   "execution_count": 8,
   "id": "current-processor",
   "metadata": {},
   "outputs": [
    {
     "name": "stdout",
     "output_type": "stream",
     "text": [
      "<class 'function'>\n"
     ]
    }
   ],
   "source": [
    "print(type(mul))"
   ]
  },
  {
   "cell_type": "code",
   "execution_count": 9,
   "id": "productive-carrier",
   "metadata": {},
   "outputs": [],
   "source": [
    "var1=mul"
   ]
  },
  {
   "cell_type": "code",
   "execution_count": 10,
   "id": "involved-patch",
   "metadata": {},
   "outputs": [
    {
     "data": {
      "text/plain": [
       "32"
      ]
     },
     "execution_count": 10,
     "metadata": {},
     "output_type": "execute_result"
    }
   ],
   "source": [
    "var1(4,8)"
   ]
  },
  {
   "cell_type": "code",
   "execution_count": 11,
   "id": "thrown-james",
   "metadata": {},
   "outputs": [
    {
     "data": {
      "text/plain": [
       "180"
      ]
     },
     "execution_count": 11,
     "metadata": {},
     "output_type": "execute_result"
    }
   ],
   "source": [
    "var1(3,6,10)"
   ]
  },
  {
   "cell_type": "code",
   "execution_count": 12,
   "id": "revolutionary-complex",
   "metadata": {},
   "outputs": [],
   "source": [
    "var2=mul"
   ]
  },
  {
   "cell_type": "code",
   "execution_count": 13,
   "id": "powered-blame",
   "metadata": {},
   "outputs": [
    {
     "data": {
      "text/plain": [
       "10"
      ]
     },
     "execution_count": 13,
     "metadata": {},
     "output_type": "execute_result"
    }
   ],
   "source": [
    "var2(2,5)"
   ]
  },
  {
   "cell_type": "code",
   "execution_count": 14,
   "id": "criminal-serum",
   "metadata": {},
   "outputs": [
    {
     "data": {
      "text/plain": [
       "16"
      ]
     },
     "execution_count": 14,
     "metadata": {},
     "output_type": "execute_result"
    }
   ],
   "source": [
    "var1(2,4,2)"
   ]
  },
  {
   "cell_type": "code",
   "execution_count": 15,
   "id": "surprised-worst",
   "metadata": {},
   "outputs": [
    {
     "data": {
      "text/plain": [
       "36"
      ]
     },
     "execution_count": 15,
     "metadata": {},
     "output_type": "execute_result"
    }
   ],
   "source": [
    "var1(3,2,6)"
   ]
  },
  {
   "cell_type": "code",
   "execution_count": 16,
   "id": "japanese-charm",
   "metadata": {},
   "outputs": [],
   "source": [
    "t=(1,\"2\",3,\"a\")"
   ]
  },
  {
   "cell_type": "code",
   "execution_count": 17,
   "id": "enhanced-morgan",
   "metadata": {},
   "outputs": [
    {
     "name": "stdout",
     "output_type": "stream",
     "text": [
      "1\n",
      "2\n",
      "3\n",
      "a\n"
     ]
    }
   ],
   "source": [
    "for item in t:\n",
    "    print(item)"
   ]
  },
  {
   "cell_type": "code",
   "execution_count": 18,
   "id": "married-coating",
   "metadata": {},
   "outputs": [],
   "source": [
    "l=[1,2,3,4,5]"
   ]
  },
  {
   "cell_type": "code",
   "execution_count": 19,
   "id": "possible-transcription",
   "metadata": {},
   "outputs": [
    {
     "name": "stdout",
     "output_type": "stream",
     "text": [
      "1\n",
      "2\n",
      "3\n",
      "4\n",
      "5\n"
     ]
    }
   ],
   "source": [
    "i=0\n",
    "while(i!=len(l)):\n",
    "    print(l[i])\n",
    "    i=i+1"
   ]
  },
  {
   "cell_type": "code",
   "execution_count": 20,
   "id": "adaptive-utilization",
   "metadata": {},
   "outputs": [
    {
     "name": "stdout",
     "output_type": "stream",
     "text": [
      "1\n"
     ]
    }
   ],
   "source": [
    "print(min(l))"
   ]
  },
  {
   "cell_type": "code",
   "execution_count": 21,
   "id": "still-psychiatry",
   "metadata": {},
   "outputs": [
    {
     "name": "stdout",
     "output_type": "stream",
     "text": [
      "5\n"
     ]
    }
   ],
   "source": [
    "print(max(l))"
   ]
  },
  {
   "cell_type": "code",
   "execution_count": 22,
   "id": "indian-kenya",
   "metadata": {},
   "outputs": [],
   "source": [
    "l.append(16)"
   ]
  },
  {
   "cell_type": "code",
   "execution_count": 23,
   "id": "confident-bradley",
   "metadata": {},
   "outputs": [
    {
     "name": "stdout",
     "output_type": "stream",
     "text": [
      "[1, 2, 3, 4, 5, 16]\n"
     ]
    }
   ],
   "source": [
    "print(l)"
   ]
  },
  {
   "cell_type": "code",
   "execution_count": 24,
   "id": "finished-campbell",
   "metadata": {},
   "outputs": [
    {
     "name": "stdout",
     "output_type": "stream",
     "text": [
      "1\n"
     ]
    }
   ],
   "source": [
    "print(l[0])"
   ]
  },
  {
   "cell_type": "code",
   "execution_count": 25,
   "id": "genetic-nursing",
   "metadata": {},
   "outputs": [],
   "source": [
    "cadena = \"palabra acampar\""
   ]
  },
  {
   "cell_type": "code",
   "execution_count": 26,
   "id": "combined-spare",
   "metadata": {},
   "outputs": [
    {
     "data": {
      "text/plain": [
       "['p', 'l', 'br', ' ', 'c', 'mp', 'r']"
      ]
     },
     "execution_count": 26,
     "metadata": {},
     "output_type": "execute_result"
    }
   ],
   "source": [
    "cadena.split('a')"
   ]
  },
  {
   "cell_type": "code",
   "execution_count": null,
   "id": "fresh-jamaica",
   "metadata": {},
   "outputs": [],
   "source": []
  }
 ],
 "metadata": {
  "kernelspec": {
   "display_name": "Python 3",
   "language": "python",
   "name": "python3"
  },
  "language_info": {
   "codemirror_mode": {
    "name": "ipython",
    "version": 3
   },
   "file_extension": ".py",
   "mimetype": "text/x-python",
   "name": "python",
   "nbconvert_exporter": "python",
   "pygments_lexer": "ipython3",
   "version": "3.6.9"
  }
 },
 "nbformat": 4,
 "nbformat_minor": 5
}
